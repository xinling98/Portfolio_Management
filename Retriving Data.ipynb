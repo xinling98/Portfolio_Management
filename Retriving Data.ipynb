{
 "cells": [
  {
   "cell_type": "code",
   "execution_count": 1,
   "id": "c346f9e0",
   "metadata": {},
   "outputs": [],
   "source": [
    "#!pip install yfinance\n",
    "#!pip install yahoofinancials"
   ]
  },
  {
   "cell_type": "code",
   "execution_count": 2,
   "id": "7e5b8134",
   "metadata": {},
   "outputs": [],
   "source": [
    "import pandas as pd\n",
    "import yfinance as yf\n",
    "from yahoofinancials import YahooFinancials\n",
    "from datetime import date\n",
    "from dateutil.relativedelta import relativedelta"
   ]
  },
  {
   "cell_type": "code",
   "execution_count": 40,
   "id": "58dff900",
   "metadata": {},
   "outputs": [],
   "source": [
    "all_firms=pd.read_csv('Tickers.csv')\n",
    "ticker_list = list(all_firms['Symbol'])\n",
    "#Correction made: the 'NA' was read as nan automatically\n",
    "ticker_list[3684]='NA'"
   ]
  },
  {
   "cell_type": "code",
   "execution_count": 21,
   "id": "67a372c6",
   "metadata": {},
   "outputs": [],
   "source": [
    "today = date.today()\n",
    "#we can change this to adjust the starting date of your data\n",
    "starting_date=today - relativedelta(years=10)\n",
    "today=today.strftime('%Y-%m-%d')\n",
    "starting_date=starting_date.strftime('%Y-%m-%d')"
   ]
  },
  {
   "cell_type": "code",
   "execution_count": 5,
   "id": "f3e743ad",
   "metadata": {},
   "outputs": [
    {
     "name": "stdout",
     "output_type": "stream",
     "text": [
      "\n",
      "1 Failed download:\n",
      "- AGM.A: No timezone found, symbol may be delisted\n",
      "\n",
      "1 Failed download:\n",
      "- AKO.A: No timezone found, symbol may be delisted\n",
      "\n",
      "1 Failed download:\n",
      "- AKO.B: No timezone found, symbol may be delisted\n",
      "\n",
      "1 Failed download:\n",
      "- BF.A: No timezone found, symbol may be delisted\n",
      "\n",
      "1 Failed download:\n",
      "- BF.B: No data found for this date range, symbol may be delisted\n",
      "\n",
      "1 Failed download:\n",
      "- BH.A: No timezone found, symbol may be delisted\n",
      "\n",
      "1 Failed download:\n",
      "- BRK.A: No timezone found, symbol may be delisted\n",
      "\n",
      "1 Failed download:\n",
      "- BRK.B: No timezone found, symbol may be delisted\n",
      "\n",
      "1 Failed download:\n",
      "- CRD.A: No timezone found, symbol may be delisted\n",
      "\n",
      "1 Failed download:\n",
      "- CRD.B: No timezone found, symbol may be delisted\n",
      "\n",
      "1 Failed download:\n",
      "- CWEN.A: No timezone found, symbol may be delisted\n"
     ]
    }
   ],
   "source": [
    "historical_data = {}\n",
    "for ticker in ticker_list[:2000]:\n",
    "    historical_data[ticker] = yf.download(ticker, \n",
    "                      start=starting_date, \n",
    "                      end=today, \n",
    "                      progress=False,)['Adj Close']\n",
    "pd.DataFrame(historical_data).to_csv('historical data_1.csv')"
   ]
  },
  {
   "cell_type": "code",
   "execution_count": 47,
   "id": "d625d8cf",
   "metadata": {},
   "outputs": [
    {
     "name": "stdout",
     "output_type": "stream",
     "text": [
      "\n",
      "1 Failed download:\n",
      "- GEF.B: No data found for this date range, symbol may be delisted\n",
      "\n",
      "1 Failed download:\n",
      "- GTN.A: No timezone found, symbol may be delisted\n",
      "\n",
      "1 Failed download:\n",
      "- HEI.A: No timezone found, symbol may be delisted\n",
      "\n",
      "1 Failed download:\n",
      "- ISRL: No timezone found, symbol may be delisted\n",
      "\n",
      "1 Failed download:\n",
      "- LEN.B: No data found for this date range, symbol may be delisted\n",
      "\n",
      "1 Failed download:\n",
      "- LGF.A: No timezone found, symbol may be delisted\n",
      "\n",
      "1 Failed download:\n",
      "- MOG.A: No timezone found, symbol may be delisted\n",
      "\n",
      "1 Failed download:\n",
      "- MOG.B: No timezone found, symbol may be delisted\n"
     ]
    }
   ],
   "source": [
    "historical_data = {}\n",
    "for ticker in ticker_list[2000:4000]:\n",
    "    historical_data[ticker] = yf.download(ticker, \n",
    "                      start=starting_date, \n",
    "                      end=today, \n",
    "                      progress=False,)['Adj Close']\n",
    "pd.DataFrame(historical_data).to_csv('historical data_2.csv')"
   ]
  },
  {
   "cell_type": "code",
   "execution_count": 48,
   "id": "0c1d01b7",
   "metadata": {},
   "outputs": [
    {
     "name": "stdout",
     "output_type": "stream",
     "text": [
      "\n",
      "1 Failed download:\n",
      "- PBR.A: No timezone found, symbol may be delisted\n",
      "\n",
      "1 Failed download:\n",
      "- SWI: CircuitBreaker 'redis' is OPEN and does not permit further calls\n",
      "\n",
      "1 Failed download:\n",
      "- SWX: CircuitBreaker 'redis' is OPEN and does not permit further calls\n",
      "\n",
      "1 Failed download:\n",
      "- SXC: CircuitBreaker 'redis' is OPEN and does not permit further calls\n",
      "\n",
      "1 Failed download:\n",
      "- SY: No timezone found, symbol may be delisted\n",
      "\n",
      "1 Failed download:\n",
      "- SYBT: No timezone found, symbol may be delisted\n",
      "\n",
      "1 Failed download:\n",
      "- TAIT: CircuitBreaker 'redis' is OPEN and does not permit further calls\n",
      "\n",
      "1 Failed download:\n",
      "- TALO: No timezone found, symbol may be delisted\n",
      "\n",
      "1 Failed download:\n",
      "- TARO: No timezone found, symbol may be delisted\n",
      "\n",
      "1 Failed download:\n",
      "- TBI: No timezone found, symbol may be delisted\n",
      "\n",
      "1 Failed download:\n",
      "- TBNK: No timezone found, symbol may be delisted\n",
      "\n",
      "1 Failed download:\n",
      "- TCBK: No timezone found, symbol may be delisted\n",
      "\n",
      "1 Failed download:\n",
      "- TCBP: No timezone found, symbol may be delisted\n",
      "\n",
      "1 Failed download:\n",
      "- TCBX: No timezone found, symbol may be delisted\n",
      "\n",
      "1 Failed download:\n",
      "- TCI: CircuitBreaker 'redis' is OPEN and does not permit further calls\n",
      "\n",
      "1 Failed download:\n",
      "- TCOA: CircuitBreaker 'redis' is OPEN and does not permit further calls\n"
     ]
    }
   ],
   "source": [
    "historical_data = {}\n",
    "for ticker in ticker_list[4000:]:\n",
    "    historical_data[ticker] = yf.download(ticker, \n",
    "                      start=starting_date, \n",
    "                      end=today, \n",
    "                      progress=False,)['Adj Close']\n",
    "pd.DataFrame(historical_data).to_csv('historical data_3.csv')"
   ]
  },
  {
   "cell_type": "code",
   "execution_count": 49,
   "id": "0630bf0d",
   "metadata": {},
   "outputs": [
    {
     "name": "stdout",
     "output_type": "stream",
     "text": [
      "\n",
      "1 Failed download:\n",
      "- AGM.A: No timezone found, symbol may be delisted\n",
      "\n",
      "1 Failed download:\n",
      "- AKO.A: No timezone found, symbol may be delisted\n",
      "\n",
      "1 Failed download:\n",
      "- AKO.B: No timezone found, symbol may be delisted\n",
      "\n",
      "1 Failed download:\n",
      "- BF.A: No timezone found, symbol may be delisted\n",
      "\n",
      "1 Failed download:\n",
      "- BF.B: No data found for this date range, symbol may be delisted\n",
      "\n",
      "1 Failed download:\n",
      "- BH.A: No timezone found, symbol may be delisted\n",
      "\n",
      "1 Failed download:\n",
      "- BRK.A: No timezone found, symbol may be delisted\n",
      "\n",
      "1 Failed download:\n",
      "- BRK.B: No timezone found, symbol may be delisted\n",
      "\n",
      "1 Failed download:\n",
      "- CRD.A: No timezone found, symbol may be delisted\n",
      "\n",
      "1 Failed download:\n",
      "- CRD.B: No timezone found, symbol may be delisted\n",
      "\n",
      "1 Failed download:\n",
      "- CWEN.A: No timezone found, symbol may be delisted\n",
      "\n",
      "1 Failed download:\n",
      "- GEF.B: No data found for this date range, symbol may be delisted\n",
      "\n",
      "1 Failed download:\n",
      "- GTN.A: No timezone found, symbol may be delisted\n",
      "\n",
      "1 Failed download:\n",
      "- HEI.A: No timezone found, symbol may be delisted\n",
      "\n",
      "1 Failed download:\n",
      "- ISRL: No timezone found, symbol may be delisted\n",
      "\n",
      "1 Failed download:\n",
      "- LEN.B: No data found for this date range, symbol may be delisted\n",
      "\n",
      "1 Failed download:\n",
      "- LGF.A: No timezone found, symbol may be delisted\n",
      "\n",
      "1 Failed download:\n",
      "- LUMN: Error occurred while retrieving timeseries from Redis, keys: [RedisKey [key=LUMN, cluster=finance]]\n",
      "\n",
      "1 Failed download:\n",
      "- LVO: CircuitBreaker 'redis' is OPEN and does not permit further calls\n",
      "\n",
      "1 Failed download:\n",
      "- LYB: CircuitBreaker 'redis' is OPEN and does not permit further calls\n",
      "\n",
      "1 Failed download:\n",
      "- LYT: CircuitBreaker 'redis' is OPEN and does not permit further calls\n",
      "\n",
      "1 Failed download:\n",
      "- LZ: CircuitBreaker 'redis' is OPEN and does not permit further calls\n",
      "\n",
      "1 Failed download:\n",
      "- MAC: CircuitBreaker 'redis' is OPEN and does not permit further calls\n",
      "\n",
      "1 Failed download:\n",
      "- MAIA: CircuitBreaker 'redis' is OPEN and does not permit further calls\n",
      "\n",
      "1 Failed download:\n",
      "- MARK: CircuitBreaker 'redis' is OPEN and does not permit further calls\n",
      "\n",
      "1 Failed download:\n",
      "- MOG.A: No timezone found, symbol may be delisted\n",
      "\n",
      "1 Failed download:\n",
      "- MOG.B: No timezone found, symbol may be delisted\n",
      "\n",
      "1 Failed download:\n",
      "- PBR.A: No timezone found, symbol may be delisted\n"
     ]
    }
   ],
   "source": [
    "historical_data = {}\n",
    "for ticker in ticker_list:\n",
    "    historical_data[ticker] = yf.download(ticker, \n",
    "                      start=starting_date, \n",
    "                      end=today, \n",
    "                      progress=False,)['Adj Close']\n",
    "pd.DataFrame(historical_data).to_csv('historical_data.csv')"
   ]
  },
  {
   "cell_type": "code",
   "execution_count": 53,
   "id": "8c569d77",
   "metadata": {},
   "outputs": [],
   "source": [
    "historical_data=pd.read_csv('historical_data.csv')\n",
    "daily_return=pd.DataFrame(columns=historical_data.columns)\n",
    "daily_return['Date']=historical_data['Date'][1:]"
   ]
  },
  {
   "cell_type": "code",
   "execution_count": 55,
   "id": "18afd2ef",
   "metadata": {},
   "outputs": [],
   "source": [
    "number_of_stocks=len(historical_data.columns[1:])\n",
    "for n in range(number_of_stocks):\n",
    "    stock=historical_data.columns[n+1]  \n",
    "    list=(historical_data[f'{stock}'].shift(-1)/historical_data[f'{stock}'])-1\n",
    "    daily_return[f'{stock}']=list[:-1]"
   ]
  },
  {
   "cell_type": "code",
   "execution_count": 56,
   "id": "25facdbd",
   "metadata": {},
   "outputs": [],
   "source": [
    "daily_return.to_csv('Daily_return.csv')\n",
    "daily_return=daily_return.set_index('Date')"
   ]
  },
  {
   "cell_type": "code",
   "execution_count": 72,
   "id": "c17b6838",
   "metadata": {},
   "outputs": [],
   "source": [
    "daily_return.iloc[:,:2000].to_csv('Daily_return_1.csv')\n",
    "daily_return.iloc[:,2000:4000].to_csv('Daily_return_2.csv')\n",
    "daily_return.iloc[:,4000:].to_csv('Daily_return_3.csv')"
   ]
  }
 ],
 "metadata": {
  "kernelspec": {
   "display_name": "Python 3 (ipykernel)",
   "language": "python",
   "name": "python3"
  },
  "language_info": {
   "codemirror_mode": {
    "name": "ipython",
    "version": 3
   },
   "file_extension": ".py",
   "mimetype": "text/x-python",
   "name": "python",
   "nbconvert_exporter": "python",
   "pygments_lexer": "ipython3",
   "version": "3.9.13"
  }
 },
 "nbformat": 4,
 "nbformat_minor": 5
}
