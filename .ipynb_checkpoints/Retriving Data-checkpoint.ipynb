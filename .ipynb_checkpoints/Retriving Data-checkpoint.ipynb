{
 "cells": [
  {
   "cell_type": "code",
   "execution_count": 1,
   "id": "c346f9e0",
   "metadata": {},
   "outputs": [
    {
     "name": "stdout",
     "output_type": "stream",
     "text": [
      "Collecting yfinance\n",
      "  Downloading yfinance-0.2.9-py2.py3-none-any.whl (55 kB)\n",
      "     ---------------------------------------- 55.9/55.9 kB 1.4 MB/s eta 0:00:00\n",
      "Collecting cryptography>=3.3.2\n",
      "  Downloading cryptography-39.0.0-cp36-abi3-win_amd64.whl (2.5 MB)\n",
      "     ---------------------------------------- 2.5/2.5 MB 19.5 MB/s eta 0:00:00\n",
      "Collecting lxml>=4.9.1\n",
      "  Downloading lxml-4.9.2-cp310-cp310-win_amd64.whl (3.8 MB)\n",
      "     ---------------------------------------- 3.8/3.8 MB 30.1 MB/s eta 0:00:00\n",
      "Collecting frozendict>=2.3.4\n",
      "  Downloading frozendict-2.3.4-cp310-cp310-win_amd64.whl (35 kB)\n",
      "Requirement already satisfied: pandas>=1.3.0 in c:\\users\\jaffe\\appdata\\local\\programs\\python\\python310\\lib\\site-packages (from yfinance) (1.4.4)\n",
      "Requirement already satisfied: beautifulsoup4>=4.11.1 in c:\\users\\jaffe\\appdata\\local\\programs\\python\\python310\\lib\\site-packages (from yfinance) (4.11.1)\n",
      "Collecting multitasking>=0.0.7\n",
      "  Downloading multitasking-0.0.11-py3-none-any.whl (8.5 kB)\n",
      "Requirement already satisfied: appdirs>=1.4.4 in c:\\users\\jaffe\\appdata\\local\\programs\\python\\python310\\lib\\site-packages (from yfinance) (1.4.4)\n",
      "Requirement already satisfied: numpy>=1.16.5 in c:\\users\\jaffe\\appdata\\local\\programs\\python\\python310\\lib\\site-packages (from yfinance) (1.23.2)\n",
      "Collecting pytz>=2022.5\n",
      "  Downloading pytz-2022.7.1-py2.py3-none-any.whl (499 kB)\n",
      "     ------------------------------------- 499.4/499.4 kB 30.6 MB/s eta 0:00:00\n",
      "Collecting html5lib>=1.1\n",
      "  Downloading html5lib-1.1-py2.py3-none-any.whl (112 kB)\n",
      "     -------------------------------------- 112.2/112.2 kB 6.4 MB/s eta 0:00:00\n",
      "Collecting requests>=2.26\n",
      "  Downloading requests-2.28.2-py3-none-any.whl (62 kB)\n",
      "     ---------------------------------------- 62.8/62.8 kB 3.5 MB/s eta 0:00:00\n",
      "Requirement already satisfied: soupsieve>1.2 in c:\\users\\jaffe\\appdata\\local\\programs\\python\\python310\\lib\\site-packages (from beautifulsoup4>=4.11.1->yfinance) (2.3.2.post1)\n",
      "Requirement already satisfied: cffi>=1.12 in c:\\users\\jaffe\\appdata\\local\\programs\\python\\python310\\lib\\site-packages (from cryptography>=3.3.2->yfinance) (1.15.1)\n",
      "Requirement already satisfied: six>=1.9 in c:\\users\\jaffe\\appdata\\local\\programs\\python\\python310\\lib\\site-packages (from html5lib>=1.1->yfinance) (1.16.0)\n",
      "Requirement already satisfied: webencodings in c:\\users\\jaffe\\appdata\\local\\programs\\python\\python310\\lib\\site-packages (from html5lib>=1.1->yfinance) (0.5.1)\n",
      "Requirement already satisfied: python-dateutil>=2.8.1 in c:\\users\\jaffe\\appdata\\local\\programs\\python\\python310\\lib\\site-packages (from pandas>=1.3.0->yfinance) (2.8.2)\n",
      "Collecting charset-normalizer<4,>=2\n",
      "  Downloading charset_normalizer-3.0.1-cp310-cp310-win_amd64.whl (96 kB)\n",
      "     ---------------------------------------- 96.5/96.5 kB 5.4 MB/s eta 0:00:00\n",
      "Collecting idna<4,>=2.5\n",
      "  Downloading idna-3.4-py3-none-any.whl (61 kB)\n",
      "     ---------------------------------------- 61.5/61.5 kB ? eta 0:00:00\n",
      "Requirement already satisfied: certifi>=2017.4.17 in c:\\users\\jaffe\\appdata\\local\\programs\\python\\python310\\lib\\site-packages (from requests>=2.26->yfinance) (2022.9.14)\n",
      "Requirement already satisfied: urllib3<1.27,>=1.21.1 in c:\\users\\jaffe\\appdata\\local\\programs\\python\\python310\\lib\\site-packages (from requests>=2.26->yfinance) (1.26.12)\n",
      "Requirement already satisfied: pycparser in c:\\users\\jaffe\\appdata\\local\\programs\\python\\python310\\lib\\site-packages (from cffi>=1.12->cryptography>=3.3.2->yfinance) (2.21)\n",
      "Installing collected packages: pytz, multitasking, charset-normalizer, lxml, idna, html5lib, frozendict, requests, cryptography, yfinance\n",
      "  Attempting uninstall: pytz\n",
      "    Found existing installation: pytz 2022.2.1\n",
      "    Uninstalling pytz-2022.2.1:\n",
      "      Successfully uninstalled pytz-2022.2.1\n",
      "Successfully installed charset-normalizer-3.0.1 cryptography-39.0.0 frozendict-2.3.4 html5lib-1.1 idna-3.4 lxml-4.9.2 multitasking-0.0.11 pytz-2022.7.1 requests-2.28.2 yfinance-0.2.9\n"
     ]
    },
    {
     "name": "stderr",
     "output_type": "stream",
     "text": [
      "\n",
      "[notice] A new release of pip available: 22.2.2 -> 23.0\n",
      "[notice] To update, run: python.exe -m pip install --upgrade pip\n"
     ]
    },
    {
     "name": "stdout",
     "output_type": "stream",
     "text": [
      "Collecting yahoofinancials\n",
      "  Downloading yahoofinancials-1.12.tar.gz (33 kB)\n",
      "  Preparing metadata (setup.py): started\n",
      "  Preparing metadata (setup.py): finished with status 'done'\n",
      "Requirement already satisfied: beautifulsoup4>=4.11.1 in c:\\users\\jaffe\\appdata\\local\\programs\\python\\python310\\lib\\site-packages (from yahoofinancials) (4.11.1)\n",
      "Requirement already satisfied: pytz in c:\\users\\jaffe\\appdata\\local\\programs\\python\\python310\\lib\\site-packages (from yahoofinancials) (2022.7.1)\n",
      "Requirement already satisfied: cryptography>=3.3.2 in c:\\users\\jaffe\\appdata\\local\\programs\\python\\python310\\lib\\site-packages (from yahoofinancials) (39.0.0)\n",
      "Requirement already satisfied: requests>=2.26 in c:\\users\\jaffe\\appdata\\local\\programs\\python\\python310\\lib\\site-packages (from yahoofinancials) (2.28.2)\n",
      "Requirement already satisfied: soupsieve>1.2 in c:\\users\\jaffe\\appdata\\local\\programs\\python\\python310\\lib\\site-packages (from beautifulsoup4>=4.11.1->yahoofinancials) (2.3.2.post1)\n",
      "Requirement already satisfied: cffi>=1.12 in c:\\users\\jaffe\\appdata\\local\\programs\\python\\python310\\lib\\site-packages (from cryptography>=3.3.2->yahoofinancials) (1.15.1)\n",
      "Requirement already satisfied: urllib3<1.27,>=1.21.1 in c:\\users\\jaffe\\appdata\\local\\programs\\python\\python310\\lib\\site-packages (from requests>=2.26->yahoofinancials) (1.26.12)\n",
      "Requirement already satisfied: charset-normalizer<4,>=2 in c:\\users\\jaffe\\appdata\\local\\programs\\python\\python310\\lib\\site-packages (from requests>=2.26->yahoofinancials) (3.0.1)\n",
      "Requirement already satisfied: certifi>=2017.4.17 in c:\\users\\jaffe\\appdata\\local\\programs\\python\\python310\\lib\\site-packages (from requests>=2.26->yahoofinancials) (2022.9.14)\n",
      "Requirement already satisfied: idna<4,>=2.5 in c:\\users\\jaffe\\appdata\\local\\programs\\python\\python310\\lib\\site-packages (from requests>=2.26->yahoofinancials) (3.4)\n",
      "Requirement already satisfied: pycparser in c:\\users\\jaffe\\appdata\\local\\programs\\python\\python310\\lib\\site-packages (from cffi>=1.12->cryptography>=3.3.2->yahoofinancials) (2.21)\n",
      "Building wheels for collected packages: yahoofinancials\n",
      "  Building wheel for yahoofinancials (setup.py): started\n",
      "  Building wheel for yahoofinancials (setup.py): finished with status 'done'\n",
      "  Created wheel for yahoofinancials: filename=yahoofinancials-1.12-py3-none-any.whl size=20696 sha256=f5e8bbd2a0a2bcb1d7edddba94b18d2fb4add14929d46fd23248ef096e115f53\n",
      "  Stored in directory: c:\\users\\jaffe\\appdata\\local\\pip\\cache\\wheels\\db\\75\\fe\\cee55d7a51aacfa52e63a8081d30be3b1a9683abc153bc39c2\n",
      "Successfully built yahoofinancials\n",
      "Installing collected packages: yahoofinancials\n",
      "Successfully installed yahoofinancials-1.12\n"
     ]
    },
    {
     "name": "stderr",
     "output_type": "stream",
     "text": [
      "\n",
      "[notice] A new release of pip available: 22.2.2 -> 23.0\n",
      "[notice] To update, run: python.exe -m pip install --upgrade pip\n"
     ]
    }
   ],
   "source": [
    "!pip install yfinance\n",
    "!pip install yahoofinancials"
   ]
  },
  {
   "cell_type": "code",
   "execution_count": 3,
   "id": "7e5b8134",
   "metadata": {},
   "outputs": [],
   "source": [
    "import pandas as pd\n",
    "import yfinance as yf\n",
    "from yahoofinancials import YahooFinancials\n",
    "from datetime import date\n",
    "from dateutil.relativedelta import relativedelta"
   ]
  },
  {
   "cell_type": "code",
   "execution_count": 40,
   "id": "58dff900",
   "metadata": {},
   "outputs": [],
   "source": [
    "all_firms=pd.read_csv('Tickers.csv')\n",
    "ticker_list = list(all_firms['Symbol'])\n",
    "#Correction made: the 'NA' was read as nan automatically\n",
    "ticker_list[3684]='NA'"
   ]
  },
  {
   "cell_type": "code",
   "execution_count": 21,
   "id": "67a372c6",
   "metadata": {},
   "outputs": [],
   "source": [
    "today = date.today()\n",
    "#we can change this to adjust the starting date of your data\n",
    "starting_date=today - relativedelta(years=10)\n",
    "today=today.strftime('%Y-%m-%d')\n",
    "starting_date=starting_date.strftime('%Y-%m-%d')"
   ]
  },
  {
   "cell_type": "code",
   "execution_count": 5,
   "id": "f3e743ad",
   "metadata": {},
   "outputs": [
    {
     "name": "stdout",
     "output_type": "stream",
     "text": [
      "\n",
      "1 Failed download:\n",
      "- AGM.A: No timezone found, symbol may be delisted\n",
      "\n",
      "1 Failed download:\n",
      "- AKO.A: No timezone found, symbol may be delisted\n",
      "\n",
      "1 Failed download:\n",
      "- AKO.B: No timezone found, symbol may be delisted\n",
      "\n",
      "1 Failed download:\n",
      "- BF.A: No timezone found, symbol may be delisted\n",
      "\n",
      "1 Failed download:\n",
      "- BF.B: No data found for this date range, symbol may be delisted\n",
      "\n",
      "1 Failed download:\n",
      "- BH.A: No timezone found, symbol may be delisted\n",
      "\n",
      "1 Failed download:\n",
      "- BRK.A: No timezone found, symbol may be delisted\n",
      "\n",
      "1 Failed download:\n",
      "- BRK.B: No timezone found, symbol may be delisted\n",
      "\n",
      "1 Failed download:\n",
      "- CRD.A: No timezone found, symbol may be delisted\n",
      "\n",
      "1 Failed download:\n",
      "- CRD.B: No timezone found, symbol may be delisted\n",
      "\n",
      "1 Failed download:\n",
      "- CWEN.A: No timezone found, symbol may be delisted\n"
     ]
    }
   ],
   "source": [
    "historical_data = {}\n",
    "for ticker in ticker_list[:2000]:\n",
    "    historical_data[ticker] = yf.download(ticker, \n",
    "                      start=starting_date, \n",
    "                      end=today, \n",
    "                      progress=False,)['Adj Close']\n",
    "pd.DataFrame(historical_data).to_csv('historical data_1.csv')"
   ]
  },
  {
   "cell_type": "code",
   "execution_count": 47,
   "id": "d625d8cf",
   "metadata": {},
   "outputs": [
    {
     "name": "stdout",
     "output_type": "stream",
     "text": [
      "\n",
      "1 Failed download:\n",
      "- GEF.B: No data found for this date range, symbol may be delisted\n",
      "\n",
      "1 Failed download:\n",
      "- GTN.A: No timezone found, symbol may be delisted\n",
      "\n",
      "1 Failed download:\n",
      "- HEI.A: No timezone found, symbol may be delisted\n",
      "\n",
      "1 Failed download:\n",
      "- ISRL: No timezone found, symbol may be delisted\n",
      "\n",
      "1 Failed download:\n",
      "- LEN.B: No data found for this date range, symbol may be delisted\n",
      "\n",
      "1 Failed download:\n",
      "- LGF.A: No timezone found, symbol may be delisted\n",
      "\n",
      "1 Failed download:\n",
      "- MOG.A: No timezone found, symbol may be delisted\n",
      "\n",
      "1 Failed download:\n",
      "- MOG.B: No timezone found, symbol may be delisted\n"
     ]
    }
   ],
   "source": [
    "historical_data = {}\n",
    "for ticker in ticker_list[2000:4000]:\n",
    "    historical_data[ticker] = yf.download(ticker, \n",
    "                      start=starting_date, \n",
    "                      end=today, \n",
    "                      progress=False,)['Adj Close']\n",
    "pd.DataFrame(historical_data).to_csv('historical data_2.csv')"
   ]
  },
  {
   "cell_type": "code",
   "execution_count": 48,
   "id": "0c1d01b7",
   "metadata": {},
   "outputs": [
    {
     "name": "stdout",
     "output_type": "stream",
     "text": [
      "\n",
      "1 Failed download:\n",
      "- PBR.A: No timezone found, symbol may be delisted\n",
      "\n",
      "1 Failed download:\n",
      "- SWI: CircuitBreaker 'redis' is OPEN and does not permit further calls\n",
      "\n",
      "1 Failed download:\n",
      "- SWX: CircuitBreaker 'redis' is OPEN and does not permit further calls\n",
      "\n",
      "1 Failed download:\n",
      "- SXC: CircuitBreaker 'redis' is OPEN and does not permit further calls\n",
      "\n",
      "1 Failed download:\n",
      "- SY: No timezone found, symbol may be delisted\n",
      "\n",
      "1 Failed download:\n",
      "- SYBT: No timezone found, symbol may be delisted\n",
      "\n",
      "1 Failed download:\n",
      "- TAIT: CircuitBreaker 'redis' is OPEN and does not permit further calls\n",
      "\n",
      "1 Failed download:\n",
      "- TALO: No timezone found, symbol may be delisted\n",
      "\n",
      "1 Failed download:\n",
      "- TARO: No timezone found, symbol may be delisted\n",
      "\n",
      "1 Failed download:\n",
      "- TBI: No timezone found, symbol may be delisted\n",
      "\n",
      "1 Failed download:\n",
      "- TBNK: No timezone found, symbol may be delisted\n",
      "\n",
      "1 Failed download:\n",
      "- TCBK: No timezone found, symbol may be delisted\n",
      "\n",
      "1 Failed download:\n",
      "- TCBP: No timezone found, symbol may be delisted\n",
      "\n",
      "1 Failed download:\n",
      "- TCBX: No timezone found, symbol may be delisted\n",
      "\n",
      "1 Failed download:\n",
      "- TCI: CircuitBreaker 'redis' is OPEN and does not permit further calls\n",
      "\n",
      "1 Failed download:\n",
      "- TCOA: CircuitBreaker 'redis' is OPEN and does not permit further calls\n"
     ]
    }
   ],
   "source": [
    "historical_data = {}\n",
    "for ticker in ticker_list[4000:]:\n",
    "    historical_data[ticker] = yf.download(ticker, \n",
    "                      start=starting_date, \n",
    "                      end=today, \n",
    "                      progress=False,)['Adj Close']\n",
    "pd.DataFrame(historical_data).to_csv('historical data_3.csv')"
   ]
  },
  {
   "cell_type": "code",
   "execution_count": 49,
   "id": "0630bf0d",
   "metadata": {},
   "outputs": [
    {
     "name": "stdout",
     "output_type": "stream",
     "text": [
      "\n",
      "1 Failed download:\n",
      "- AGM.A: No timezone found, symbol may be delisted\n",
      "\n",
      "1 Failed download:\n",
      "- AKO.A: No timezone found, symbol may be delisted\n",
      "\n",
      "1 Failed download:\n",
      "- AKO.B: No timezone found, symbol may be delisted\n",
      "\n",
      "1 Failed download:\n",
      "- BF.A: No timezone found, symbol may be delisted\n",
      "\n",
      "1 Failed download:\n",
      "- BF.B: No data found for this date range, symbol may be delisted\n",
      "\n",
      "1 Failed download:\n",
      "- BH.A: No timezone found, symbol may be delisted\n",
      "\n",
      "1 Failed download:\n",
      "- BRK.A: No timezone found, symbol may be delisted\n",
      "\n",
      "1 Failed download:\n",
      "- BRK.B: No timezone found, symbol may be delisted\n",
      "\n",
      "1 Failed download:\n",
      "- CRD.A: No timezone found, symbol may be delisted\n",
      "\n",
      "1 Failed download:\n",
      "- CRD.B: No timezone found, symbol may be delisted\n",
      "\n",
      "1 Failed download:\n",
      "- CWEN.A: No timezone found, symbol may be delisted\n",
      "\n",
      "1 Failed download:\n",
      "- GEF.B: No data found for this date range, symbol may be delisted\n",
      "\n",
      "1 Failed download:\n",
      "- GTN.A: No timezone found, symbol may be delisted\n",
      "\n",
      "1 Failed download:\n",
      "- HEI.A: No timezone found, symbol may be delisted\n",
      "\n",
      "1 Failed download:\n",
      "- ISRL: No timezone found, symbol may be delisted\n",
      "\n",
      "1 Failed download:\n",
      "- LEN.B: No data found for this date range, symbol may be delisted\n",
      "\n",
      "1 Failed download:\n",
      "- LGF.A: No timezone found, symbol may be delisted\n",
      "\n",
      "1 Failed download:\n",
      "- LUMN: Error occurred while retrieving timeseries from Redis, keys: [RedisKey [key=LUMN, cluster=finance]]\n",
      "\n",
      "1 Failed download:\n",
      "- LVO: CircuitBreaker 'redis' is OPEN and does not permit further calls\n",
      "\n",
      "1 Failed download:\n",
      "- LYB: CircuitBreaker 'redis' is OPEN and does not permit further calls\n",
      "\n",
      "1 Failed download:\n",
      "- LYT: CircuitBreaker 'redis' is OPEN and does not permit further calls\n",
      "\n",
      "1 Failed download:\n",
      "- LZ: CircuitBreaker 'redis' is OPEN and does not permit further calls\n",
      "\n",
      "1 Failed download:\n",
      "- MAC: CircuitBreaker 'redis' is OPEN and does not permit further calls\n",
      "\n",
      "1 Failed download:\n",
      "- MAIA: CircuitBreaker 'redis' is OPEN and does not permit further calls\n",
      "\n",
      "1 Failed download:\n",
      "- MARK: CircuitBreaker 'redis' is OPEN and does not permit further calls\n",
      "\n",
      "1 Failed download:\n",
      "- MOG.A: No timezone found, symbol may be delisted\n",
      "\n",
      "1 Failed download:\n",
      "- MOG.B: No timezone found, symbol may be delisted\n",
      "\n",
      "1 Failed download:\n",
      "- PBR.A: No timezone found, symbol may be delisted\n"
     ]
    }
   ],
   "source": [
    "historical_data = {}\n",
    "for ticker in ticker_list:\n",
    "    historical_data[ticker] = yf.download(ticker, \n",
    "                      start=starting_date, \n",
    "                      end=today, \n",
    "                      progress=False,)['Adj Close']\n",
    "pd.DataFrame(historical_data).to_csv('historical_data.csv')"
   ]
  },
  {
   "cell_type": "code",
   "execution_count": 4,
   "id": "8c569d77",
   "metadata": {},
   "outputs": [
    {
     "ename": "FileNotFoundError",
     "evalue": "[Errno 2] No such file or directory: 'historical_data.csv'",
     "output_type": "error",
     "traceback": [
      "\u001b[1;31m---------------------------------------------------------------------------\u001b[0m",
      "\u001b[1;31mFileNotFoundError\u001b[0m                         Traceback (most recent call last)",
      "Input \u001b[1;32mIn [4]\u001b[0m, in \u001b[0;36m<cell line: 1>\u001b[1;34m()\u001b[0m\n\u001b[1;32m----> 1\u001b[0m historical_data\u001b[38;5;241m=\u001b[39m\u001b[43mpd\u001b[49m\u001b[38;5;241;43m.\u001b[39;49m\u001b[43mread_csv\u001b[49m\u001b[43m(\u001b[49m\u001b[38;5;124;43m'\u001b[39;49m\u001b[38;5;124;43mhistorical_data.csv\u001b[39;49m\u001b[38;5;124;43m'\u001b[39;49m\u001b[43m)\u001b[49m\n\u001b[0;32m      2\u001b[0m daily_return\u001b[38;5;241m=\u001b[39mpd\u001b[38;5;241m.\u001b[39mDataFrame(columns\u001b[38;5;241m=\u001b[39mhistorical_data\u001b[38;5;241m.\u001b[39mcolumns)\n\u001b[0;32m      3\u001b[0m daily_return[\u001b[38;5;124m'\u001b[39m\u001b[38;5;124mDate\u001b[39m\u001b[38;5;124m'\u001b[39m]\u001b[38;5;241m=\u001b[39mhistorical_data[\u001b[38;5;124m'\u001b[39m\u001b[38;5;124mDate\u001b[39m\u001b[38;5;124m'\u001b[39m][\u001b[38;5;241m1\u001b[39m:]\n",
      "File \u001b[1;32m~\\AppData\\Local\\Programs\\Python\\Python310\\lib\\site-packages\\pandas\\util\\_decorators.py:311\u001b[0m, in \u001b[0;36mdeprecate_nonkeyword_arguments.<locals>.decorate.<locals>.wrapper\u001b[1;34m(*args, **kwargs)\u001b[0m\n\u001b[0;32m    305\u001b[0m \u001b[38;5;28;01mif\u001b[39;00m \u001b[38;5;28mlen\u001b[39m(args) \u001b[38;5;241m>\u001b[39m num_allow_args:\n\u001b[0;32m    306\u001b[0m     warnings\u001b[38;5;241m.\u001b[39mwarn(\n\u001b[0;32m    307\u001b[0m         msg\u001b[38;5;241m.\u001b[39mformat(arguments\u001b[38;5;241m=\u001b[39marguments),\n\u001b[0;32m    308\u001b[0m         \u001b[38;5;167;01mFutureWarning\u001b[39;00m,\n\u001b[0;32m    309\u001b[0m         stacklevel\u001b[38;5;241m=\u001b[39mstacklevel,\n\u001b[0;32m    310\u001b[0m     )\n\u001b[1;32m--> 311\u001b[0m \u001b[38;5;28;01mreturn\u001b[39;00m func(\u001b[38;5;241m*\u001b[39margs, \u001b[38;5;241m*\u001b[39m\u001b[38;5;241m*\u001b[39mkwargs)\n",
      "File \u001b[1;32m~\\AppData\\Local\\Programs\\Python\\Python310\\lib\\site-packages\\pandas\\io\\parsers\\readers.py:678\u001b[0m, in \u001b[0;36mread_csv\u001b[1;34m(filepath_or_buffer, sep, delimiter, header, names, index_col, usecols, squeeze, prefix, mangle_dupe_cols, dtype, engine, converters, true_values, false_values, skipinitialspace, skiprows, skipfooter, nrows, na_values, keep_default_na, na_filter, verbose, skip_blank_lines, parse_dates, infer_datetime_format, keep_date_col, date_parser, dayfirst, cache_dates, iterator, chunksize, compression, thousands, decimal, lineterminator, quotechar, quoting, doublequote, escapechar, comment, encoding, encoding_errors, dialect, error_bad_lines, warn_bad_lines, on_bad_lines, delim_whitespace, low_memory, memory_map, float_precision, storage_options)\u001b[0m\n\u001b[0;32m    663\u001b[0m kwds_defaults \u001b[38;5;241m=\u001b[39m _refine_defaults_read(\n\u001b[0;32m    664\u001b[0m     dialect,\n\u001b[0;32m    665\u001b[0m     delimiter,\n\u001b[1;32m   (...)\u001b[0m\n\u001b[0;32m    674\u001b[0m     defaults\u001b[38;5;241m=\u001b[39m{\u001b[38;5;124m\"\u001b[39m\u001b[38;5;124mdelimiter\u001b[39m\u001b[38;5;124m\"\u001b[39m: \u001b[38;5;124m\"\u001b[39m\u001b[38;5;124m,\u001b[39m\u001b[38;5;124m\"\u001b[39m},\n\u001b[0;32m    675\u001b[0m )\n\u001b[0;32m    676\u001b[0m kwds\u001b[38;5;241m.\u001b[39mupdate(kwds_defaults)\n\u001b[1;32m--> 678\u001b[0m \u001b[38;5;28;01mreturn\u001b[39;00m \u001b[43m_read\u001b[49m\u001b[43m(\u001b[49m\u001b[43mfilepath_or_buffer\u001b[49m\u001b[43m,\u001b[49m\u001b[43m \u001b[49m\u001b[43mkwds\u001b[49m\u001b[43m)\u001b[49m\n",
      "File \u001b[1;32m~\\AppData\\Local\\Programs\\Python\\Python310\\lib\\site-packages\\pandas\\io\\parsers\\readers.py:575\u001b[0m, in \u001b[0;36m_read\u001b[1;34m(filepath_or_buffer, kwds)\u001b[0m\n\u001b[0;32m    572\u001b[0m _validate_names(kwds\u001b[38;5;241m.\u001b[39mget(\u001b[38;5;124m\"\u001b[39m\u001b[38;5;124mnames\u001b[39m\u001b[38;5;124m\"\u001b[39m, \u001b[38;5;28;01mNone\u001b[39;00m))\n\u001b[0;32m    574\u001b[0m \u001b[38;5;66;03m# Create the parser.\u001b[39;00m\n\u001b[1;32m--> 575\u001b[0m parser \u001b[38;5;241m=\u001b[39m TextFileReader(filepath_or_buffer, \u001b[38;5;241m*\u001b[39m\u001b[38;5;241m*\u001b[39mkwds)\n\u001b[0;32m    577\u001b[0m \u001b[38;5;28;01mif\u001b[39;00m chunksize \u001b[38;5;129;01mor\u001b[39;00m iterator:\n\u001b[0;32m    578\u001b[0m     \u001b[38;5;28;01mreturn\u001b[39;00m parser\n",
      "File \u001b[1;32m~\\AppData\\Local\\Programs\\Python\\Python310\\lib\\site-packages\\pandas\\io\\parsers\\readers.py:932\u001b[0m, in \u001b[0;36mTextFileReader.__init__\u001b[1;34m(self, f, engine, **kwds)\u001b[0m\n\u001b[0;32m    929\u001b[0m     \u001b[38;5;28mself\u001b[39m\u001b[38;5;241m.\u001b[39moptions[\u001b[38;5;124m\"\u001b[39m\u001b[38;5;124mhas_index_names\u001b[39m\u001b[38;5;124m\"\u001b[39m] \u001b[38;5;241m=\u001b[39m kwds[\u001b[38;5;124m\"\u001b[39m\u001b[38;5;124mhas_index_names\u001b[39m\u001b[38;5;124m\"\u001b[39m]\n\u001b[0;32m    931\u001b[0m \u001b[38;5;28mself\u001b[39m\u001b[38;5;241m.\u001b[39mhandles: IOHandles \u001b[38;5;241m|\u001b[39m \u001b[38;5;28;01mNone\u001b[39;00m \u001b[38;5;241m=\u001b[39m \u001b[38;5;28;01mNone\u001b[39;00m\n\u001b[1;32m--> 932\u001b[0m \u001b[38;5;28mself\u001b[39m\u001b[38;5;241m.\u001b[39m_engine \u001b[38;5;241m=\u001b[39m \u001b[38;5;28;43mself\u001b[39;49m\u001b[38;5;241;43m.\u001b[39;49m\u001b[43m_make_engine\u001b[49m\u001b[43m(\u001b[49m\u001b[43mf\u001b[49m\u001b[43m,\u001b[49m\u001b[43m \u001b[49m\u001b[38;5;28;43mself\u001b[39;49m\u001b[38;5;241;43m.\u001b[39;49m\u001b[43mengine\u001b[49m\u001b[43m)\u001b[49m\n",
      "File \u001b[1;32m~\\AppData\\Local\\Programs\\Python\\Python310\\lib\\site-packages\\pandas\\io\\parsers\\readers.py:1216\u001b[0m, in \u001b[0;36mTextFileReader._make_engine\u001b[1;34m(self, f, engine)\u001b[0m\n\u001b[0;32m   1212\u001b[0m     mode \u001b[38;5;241m=\u001b[39m \u001b[38;5;124m\"\u001b[39m\u001b[38;5;124mrb\u001b[39m\u001b[38;5;124m\"\u001b[39m\n\u001b[0;32m   1213\u001b[0m \u001b[38;5;66;03m# error: No overload variant of \"get_handle\" matches argument types\u001b[39;00m\n\u001b[0;32m   1214\u001b[0m \u001b[38;5;66;03m# \"Union[str, PathLike[str], ReadCsvBuffer[bytes], ReadCsvBuffer[str]]\"\u001b[39;00m\n\u001b[0;32m   1215\u001b[0m \u001b[38;5;66;03m# , \"str\", \"bool\", \"Any\", \"Any\", \"Any\", \"Any\", \"Any\"\u001b[39;00m\n\u001b[1;32m-> 1216\u001b[0m \u001b[38;5;28mself\u001b[39m\u001b[38;5;241m.\u001b[39mhandles \u001b[38;5;241m=\u001b[39m \u001b[43mget_handle\u001b[49m\u001b[43m(\u001b[49m\u001b[43m  \u001b[49m\u001b[38;5;66;43;03m# type: ignore[call-overload]\u001b[39;49;00m\n\u001b[0;32m   1217\u001b[0m \u001b[43m    \u001b[49m\u001b[43mf\u001b[49m\u001b[43m,\u001b[49m\n\u001b[0;32m   1218\u001b[0m \u001b[43m    \u001b[49m\u001b[43mmode\u001b[49m\u001b[43m,\u001b[49m\n\u001b[0;32m   1219\u001b[0m \u001b[43m    \u001b[49m\u001b[43mencoding\u001b[49m\u001b[38;5;241;43m=\u001b[39;49m\u001b[38;5;28;43mself\u001b[39;49m\u001b[38;5;241;43m.\u001b[39;49m\u001b[43moptions\u001b[49m\u001b[38;5;241;43m.\u001b[39;49m\u001b[43mget\u001b[49m\u001b[43m(\u001b[49m\u001b[38;5;124;43m\"\u001b[39;49m\u001b[38;5;124;43mencoding\u001b[39;49m\u001b[38;5;124;43m\"\u001b[39;49m\u001b[43m,\u001b[49m\u001b[43m \u001b[49m\u001b[38;5;28;43;01mNone\u001b[39;49;00m\u001b[43m)\u001b[49m\u001b[43m,\u001b[49m\n\u001b[0;32m   1220\u001b[0m \u001b[43m    \u001b[49m\u001b[43mcompression\u001b[49m\u001b[38;5;241;43m=\u001b[39;49m\u001b[38;5;28;43mself\u001b[39;49m\u001b[38;5;241;43m.\u001b[39;49m\u001b[43moptions\u001b[49m\u001b[38;5;241;43m.\u001b[39;49m\u001b[43mget\u001b[49m\u001b[43m(\u001b[49m\u001b[38;5;124;43m\"\u001b[39;49m\u001b[38;5;124;43mcompression\u001b[39;49m\u001b[38;5;124;43m\"\u001b[39;49m\u001b[43m,\u001b[49m\u001b[43m \u001b[49m\u001b[38;5;28;43;01mNone\u001b[39;49;00m\u001b[43m)\u001b[49m\u001b[43m,\u001b[49m\n\u001b[0;32m   1221\u001b[0m \u001b[43m    \u001b[49m\u001b[43mmemory_map\u001b[49m\u001b[38;5;241;43m=\u001b[39;49m\u001b[38;5;28;43mself\u001b[39;49m\u001b[38;5;241;43m.\u001b[39;49m\u001b[43moptions\u001b[49m\u001b[38;5;241;43m.\u001b[39;49m\u001b[43mget\u001b[49m\u001b[43m(\u001b[49m\u001b[38;5;124;43m\"\u001b[39;49m\u001b[38;5;124;43mmemory_map\u001b[39;49m\u001b[38;5;124;43m\"\u001b[39;49m\u001b[43m,\u001b[49m\u001b[43m \u001b[49m\u001b[38;5;28;43;01mFalse\u001b[39;49;00m\u001b[43m)\u001b[49m\u001b[43m,\u001b[49m\n\u001b[0;32m   1222\u001b[0m \u001b[43m    \u001b[49m\u001b[43mis_text\u001b[49m\u001b[38;5;241;43m=\u001b[39;49m\u001b[43mis_text\u001b[49m\u001b[43m,\u001b[49m\n\u001b[0;32m   1223\u001b[0m \u001b[43m    \u001b[49m\u001b[43merrors\u001b[49m\u001b[38;5;241;43m=\u001b[39;49m\u001b[38;5;28;43mself\u001b[39;49m\u001b[38;5;241;43m.\u001b[39;49m\u001b[43moptions\u001b[49m\u001b[38;5;241;43m.\u001b[39;49m\u001b[43mget\u001b[49m\u001b[43m(\u001b[49m\u001b[38;5;124;43m\"\u001b[39;49m\u001b[38;5;124;43mencoding_errors\u001b[39;49m\u001b[38;5;124;43m\"\u001b[39;49m\u001b[43m,\u001b[49m\u001b[43m \u001b[49m\u001b[38;5;124;43m\"\u001b[39;49m\u001b[38;5;124;43mstrict\u001b[39;49m\u001b[38;5;124;43m\"\u001b[39;49m\u001b[43m)\u001b[49m\u001b[43m,\u001b[49m\n\u001b[0;32m   1224\u001b[0m \u001b[43m    \u001b[49m\u001b[43mstorage_options\u001b[49m\u001b[38;5;241;43m=\u001b[39;49m\u001b[38;5;28;43mself\u001b[39;49m\u001b[38;5;241;43m.\u001b[39;49m\u001b[43moptions\u001b[49m\u001b[38;5;241;43m.\u001b[39;49m\u001b[43mget\u001b[49m\u001b[43m(\u001b[49m\u001b[38;5;124;43m\"\u001b[39;49m\u001b[38;5;124;43mstorage_options\u001b[39;49m\u001b[38;5;124;43m\"\u001b[39;49m\u001b[43m,\u001b[49m\u001b[43m \u001b[49m\u001b[38;5;28;43;01mNone\u001b[39;49;00m\u001b[43m)\u001b[49m\u001b[43m,\u001b[49m\n\u001b[0;32m   1225\u001b[0m \u001b[43m\u001b[49m\u001b[43m)\u001b[49m\n\u001b[0;32m   1226\u001b[0m \u001b[38;5;28;01massert\u001b[39;00m \u001b[38;5;28mself\u001b[39m\u001b[38;5;241m.\u001b[39mhandles \u001b[38;5;129;01mis\u001b[39;00m \u001b[38;5;129;01mnot\u001b[39;00m \u001b[38;5;28;01mNone\u001b[39;00m\n\u001b[0;32m   1227\u001b[0m f \u001b[38;5;241m=\u001b[39m \u001b[38;5;28mself\u001b[39m\u001b[38;5;241m.\u001b[39mhandles\u001b[38;5;241m.\u001b[39mhandle\n",
      "File \u001b[1;32m~\\AppData\\Local\\Programs\\Python\\Python310\\lib\\site-packages\\pandas\\io\\common.py:786\u001b[0m, in \u001b[0;36mget_handle\u001b[1;34m(path_or_buf, mode, encoding, compression, memory_map, is_text, errors, storage_options)\u001b[0m\n\u001b[0;32m    781\u001b[0m \u001b[38;5;28;01melif\u001b[39;00m \u001b[38;5;28misinstance\u001b[39m(handle, \u001b[38;5;28mstr\u001b[39m):\n\u001b[0;32m    782\u001b[0m     \u001b[38;5;66;03m# Check whether the filename is to be opened in binary mode.\u001b[39;00m\n\u001b[0;32m    783\u001b[0m     \u001b[38;5;66;03m# Binary mode does not support 'encoding' and 'newline'.\u001b[39;00m\n\u001b[0;32m    784\u001b[0m     \u001b[38;5;28;01mif\u001b[39;00m ioargs\u001b[38;5;241m.\u001b[39mencoding \u001b[38;5;129;01mand\u001b[39;00m \u001b[38;5;124m\"\u001b[39m\u001b[38;5;124mb\u001b[39m\u001b[38;5;124m\"\u001b[39m \u001b[38;5;129;01mnot\u001b[39;00m \u001b[38;5;129;01min\u001b[39;00m ioargs\u001b[38;5;241m.\u001b[39mmode:\n\u001b[0;32m    785\u001b[0m         \u001b[38;5;66;03m# Encoding\u001b[39;00m\n\u001b[1;32m--> 786\u001b[0m         handle \u001b[38;5;241m=\u001b[39m \u001b[38;5;28;43mopen\u001b[39;49m\u001b[43m(\u001b[49m\n\u001b[0;32m    787\u001b[0m \u001b[43m            \u001b[49m\u001b[43mhandle\u001b[49m\u001b[43m,\u001b[49m\n\u001b[0;32m    788\u001b[0m \u001b[43m            \u001b[49m\u001b[43mioargs\u001b[49m\u001b[38;5;241;43m.\u001b[39;49m\u001b[43mmode\u001b[49m\u001b[43m,\u001b[49m\n\u001b[0;32m    789\u001b[0m \u001b[43m            \u001b[49m\u001b[43mencoding\u001b[49m\u001b[38;5;241;43m=\u001b[39;49m\u001b[43mioargs\u001b[49m\u001b[38;5;241;43m.\u001b[39;49m\u001b[43mencoding\u001b[49m\u001b[43m,\u001b[49m\n\u001b[0;32m    790\u001b[0m \u001b[43m            \u001b[49m\u001b[43merrors\u001b[49m\u001b[38;5;241;43m=\u001b[39;49m\u001b[43merrors\u001b[49m\u001b[43m,\u001b[49m\n\u001b[0;32m    791\u001b[0m \u001b[43m            \u001b[49m\u001b[43mnewline\u001b[49m\u001b[38;5;241;43m=\u001b[39;49m\u001b[38;5;124;43m\"\u001b[39;49m\u001b[38;5;124;43m\"\u001b[39;49m\u001b[43m,\u001b[49m\n\u001b[0;32m    792\u001b[0m \u001b[43m        \u001b[49m\u001b[43m)\u001b[49m\n\u001b[0;32m    793\u001b[0m     \u001b[38;5;28;01melse\u001b[39;00m:\n\u001b[0;32m    794\u001b[0m         \u001b[38;5;66;03m# Binary mode\u001b[39;00m\n\u001b[0;32m    795\u001b[0m         handle \u001b[38;5;241m=\u001b[39m \u001b[38;5;28mopen\u001b[39m(handle, ioargs\u001b[38;5;241m.\u001b[39mmode)\n",
      "\u001b[1;31mFileNotFoundError\u001b[0m: [Errno 2] No such file or directory: 'historical_data.csv'"
     ]
    }
   ],
   "source": [
    "historical_data=pd.read_csv('historical_data.csv')\n",
    "daily_return=pd.DataFrame(columns=historical_data.columns)\n",
    "daily_return['Date']=historical_data['Date'][1:]"
   ]
  },
  {
   "cell_type": "code",
   "execution_count": 55,
   "id": "18afd2ef",
   "metadata": {},
   "outputs": [],
   "source": [
    "number_of_stocks=len(historical_data.columns[1:])\n",
    "for n in range(number_of_stocks):\n",
    "    stock=historical_data.columns[n+1]  \n",
    "    list=(historical_data[f'{stock}'].shift(-1)/historical_data[f'{stock}'])-1\n",
    "    daily_return[f'{stock}']=list[:-1]"
   ]
  },
  {
   "cell_type": "code",
   "execution_count": 56,
   "id": "25facdbd",
   "metadata": {},
   "outputs": [],
   "source": [
    "daily_return.to_csv('Daily_return.csv')\n",
    "daily_return=daily_return.set_index('Date')"
   ]
  },
  {
   "cell_type": "code",
   "execution_count": 72,
   "id": "c17b6838",
   "metadata": {},
   "outputs": [],
   "source": [
    "daily_return.iloc[:,:2000].to_csv('Daily_return_1.csv')\n",
    "daily_return.iloc[:,2000:4000].to_csv('Daily_return_2.csv')\n",
    "daily_return.iloc[:,4000:].to_csv('Daily_return_3.csv')"
   ]
  }
 ],
 "metadata": {
  "kernelspec": {
   "display_name": "Python 3 (ipykernel)",
   "language": "python",
   "name": "python3"
  },
  "language_info": {
   "codemirror_mode": {
    "name": "ipython",
    "version": 3
   },
   "file_extension": ".py",
   "mimetype": "text/x-python",
   "name": "python",
   "nbconvert_exporter": "python",
   "pygments_lexer": "ipython3",
   "version": "3.10.5"
  }
 },
 "nbformat": 4,
 "nbformat_minor": 5
}
